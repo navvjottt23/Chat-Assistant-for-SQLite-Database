{
 "cells": [
  {
   "cell_type": "code",
   "execution_count": 11,
   "id": "f3959c07-a06c-48ef-972d-93ac923a5344",
   "metadata": {},
   "outputs": [],
   "source": [
    "##SQLite Database Setup"
   ]
  },
  {
   "cell_type": "code",
   "execution_count": 2,
   "id": "ece54f1a-12bb-48e1-861f-9a339ce40171",
   "metadata": {},
   "outputs": [],
   "source": [
    "import sqlite3"
   ]
  },
  {
   "cell_type": "code",
   "execution_count": 3,
   "id": "4db368ca-c46c-44c3-8f03-b93759189617",
   "metadata": {},
   "outputs": [],
   "source": [
    "# Connect to SQLite database (or create it if it doesn't exist)\n",
    "conn = sqlite3.connect('company.db')\n",
    "cursor = conn.cursor()"
   ]
  },
  {
   "cell_type": "code",
   "execution_count": 4,
   "id": "d8f20faa-ed97-4372-be4b-0b7f0ada0e51",
   "metadata": {},
   "outputs": [
    {
     "data": {
      "text/plain": [
       "<sqlite3.Cursor at 0x164968cdac0>"
      ]
     },
     "execution_count": 4,
     "metadata": {},
     "output_type": "execute_result"
    }
   ],
   "source": [
    "# Create Employees table\n",
    "cursor.execute('''\n",
    "CREATE TABLE IF NOT EXISTS Employees (\n",
    "    ID INTEGER PRIMARY KEY,\n",
    "    Name TEXT NOT NULL,\n",
    "    Department TEXT NOT NULL,\n",
    "    Salary INTEGER NOT NULL,\n",
    "    Hire_Date TEXT NOT NULL\n",
    ")\n",
    "''')"
   ]
  },
  {
   "cell_type": "code",
   "execution_count": 5,
   "id": "c27bbd01-c119-47fa-a68f-2f4e5d02a52d",
   "metadata": {},
   "outputs": [
    {
     "data": {
      "text/plain": [
       "<sqlite3.Cursor at 0x164968cdac0>"
      ]
     },
     "execution_count": 5,
     "metadata": {},
     "output_type": "execute_result"
    }
   ],
   "source": [
    "# Create Departments table\n",
    "cursor.execute('''\n",
    "CREATE TABLE IF NOT EXISTS Departments (\n",
    "    ID INTEGER PRIMARY KEY,\n",
    "    Name TEXT NOT NULL,\n",
    "    Manager TEXT NOT NULL\n",
    ")\n",
    "''')"
   ]
  },
  {
   "cell_type": "code",
   "execution_count": 6,
   "id": "1c9ff548-d3f7-4d34-9ad1-b38f3532be16",
   "metadata": {},
   "outputs": [
    {
     "data": {
      "text/plain": [
       "<sqlite3.Cursor at 0x164968cdac0>"
      ]
     },
     "execution_count": 6,
     "metadata": {},
     "output_type": "execute_result"
    }
   ],
   "source": [
    "# Insert sample data into Employees table\n",
    "employees_data = [\n",
    "    (1, 'Alice', 'Sales', 50000, '2021-01-15'),\n",
    "    (2, 'Bob', 'Engineering', 70000, '2020-06-10'),\n",
    "    (3, 'Charlie', 'Marketing', 60000, '2022-03-20')\n",
    "]\n",
    "\n",
    "cursor.executemany('INSERT OR IGNORE INTO Employees (ID, Name, Department, Salary, Hire_Date) VALUES (?, ?, ?, ?, ?)', employees_data)"
   ]
  },
  {
   "cell_type": "code",
   "execution_count": 7,
   "id": "b60a43d6-af20-4a8a-9330-00acc04edbc4",
   "metadata": {},
   "outputs": [
    {
     "data": {
      "text/plain": [
       "<sqlite3.Cursor at 0x164968cdac0>"
      ]
     },
     "execution_count": 7,
     "metadata": {},
     "output_type": "execute_result"
    }
   ],
   "source": [
    "# Insert sample data into Departments table\n",
    "departments_data = [\n",
    "    (1, 'Sales', 'Alice'),\n",
    "    (2, 'Engineering', 'Bob'),\n",
    "    (3, 'Marketing', 'Charlie')\n",
    "]\n",
    "\n",
    "cursor.executemany('INSERT OR IGNORE INTO Departments (ID, Name, Manager) VALUES (?, ?, ?)', departments_data)"
   ]
  },
  {
   "cell_type": "code",
   "execution_count": 8,
   "id": "aac4e64c-9281-43ea-aeb9-d41763559ad5",
   "metadata": {},
   "outputs": [
    {
     "name": "stdout",
     "output_type": "stream",
     "text": [
      "Database setup complete!\n"
     ]
    }
   ],
   "source": [
    "# Commit changes and close the connection\n",
    "conn.commit()\n",
    "conn.close()\n",
    "\n",
    "print(\"Database setup complete!\")"
   ]
  },
  {
   "cell_type": "code",
   "execution_count": null,
   "id": "ff130d0a-48b1-4234-ac7f-b95b622bedbc",
   "metadata": {},
   "outputs": [],
   "source": [
    "##Build the Chat Assistant"
   ]
  },
  {
   "cell_type": "code",
   "execution_count": 22,
   "id": "4bf7ed18-5935-414f-81eb-522052f9e65d",
   "metadata": {},
   "outputs": [],
   "source": [
    "# Define a Function to Execute Queries\n",
    "def execute_query(query, params=()):\n",
    "    conn = sqlite3.connect('company.db')\n",
    "    cursor = conn.cursor()\n",
    "    cursor.execute(query, params)\n",
    "    result = cursor.fetchall()\n",
    "    conn.close()\n",
    "    return result"
   ]
  },
  {
   "cell_type": "code",
   "execution_count": 23,
   "id": "7026c672-a22a-4d3d-add1-89945716e946",
   "metadata": {},
   "outputs": [],
   "source": [
    "# Define a Function to Handle User Queries\n",
    "def chat_assistant(query):\n",
    "    if \"show me all employees in the\" in query.lower():\n",
    "        department = query.lower().split(\"department\")[0].split(\"in the\")[1].strip()\n",
    "        result = execute_query(\"SELECT Name FROM Employees WHERE Department = ?\", (department,))\n",
    "        if result:\n",
    "            return [row[0] for row in result]\n",
    "        else:\n",
    "            return \"No employees found in this department.\"\n",
    "    \n",
    "    elif \"who is the manager of the\" in query.lower():\n",
    "        department = query.lower().split(\"department\")[0].split(\"of the\")[1].strip()\n",
    "        result = execute_query(\"SELECT Manager FROM Departments WHERE Name = ?\", (department,))\n",
    "        if result:\n",
    "            return result[0][0]\n",
    "        else:\n",
    "            return \"Department not found.\"\n",
    "    \n",
    "    elif \"list all employees hired after\" in query.lower():\n",
    "        date = query.lower().split(\"after\")[1].strip()\n",
    "        result = execute_query(\"SELECT Name FROM Employees WHERE Hire_Date > ?\", (date,))\n",
    "        if result:\n",
    "            return [row[0] for row in result]\n",
    "        else:\n",
    "            return \"No employees hired after this date.\"\n",
    "    \n",
    "    elif \"what is the total salary expense for the\" in query.lower():\n",
    "        department = query.lower().split(\"department\")[0].split(\"for the\")[1].strip()\n",
    "        result = execute_query(\"SELECT SUM(Salary) FROM Employees WHERE Department = ?\", (department,))\n",
    "        if result:\n",
    "            return result[0][0]\n",
    "        else:\n",
    "            return \"Department not found.\"\n",
    "    \n",
    "    else:\n",
    "        return \"Sorry, I don't understand that query.\""
   ]
  },
  {
   "cell_type": "code",
   "execution_count": 24,
   "id": "d56bc90d-3e05-4d58-9f37-72a08e630ad6",
   "metadata": {},
   "outputs": [
    {
     "name": "stdout",
     "output_type": "stream",
     "text": [
      "No employees found in this department.\n",
      "Department not found.\n",
      "['Alice', 'Charlie']\n",
      "None\n"
     ]
    }
   ],
   "source": [
    "# Test the Chat Assistant\n",
    "print(chat_assistant(\"Show me all employees in the Sales department.\"))\n",
    "print(chat_assistant(\"Who is the manager of the Engineering department?\"))\n",
    "print(chat_assistant(\"List all employees hired after 2021-01-01.\"))\n",
    "print(chat_assistant(\"What is the total salary expense for the Marketing department?\"))"
   ]
  },
  {
   "cell_type": "code",
   "execution_count": 25,
   "id": "349bb063-cf94-4ad5-a61f-b9f84b9aae80",
   "metadata": {},
   "outputs": [],
   "source": [
    "# Improve Error Handling\n",
    "def chat_assistant(query):\n",
    "    try:\n",
    "        if \"show me all employees in the\" in query.lower():\n",
    "            department = query.lower().split(\"department\")[0].split(\"in the\")[1].strip()\n",
    "            result = execute_query(\"SELECT Name FROM Employees WHERE Department = ?\", (department,))\n",
    "            if result:\n",
    "                return [row[0] for row in result]\n",
    "            else:\n",
    "                return \"No employees found in this department.\"\n",
    "        \n",
    "        elif \"who is the manager of the\" in query.lower():\n",
    "            department = query.lower().split(\"department\")[0].split(\"of the\")[1].strip()\n",
    "            result = execute_query(\"SELECT Manager FROM Departments WHERE Name = ?\", (department,))\n",
    "            if result:\n",
    "                return result[0][0]\n",
    "            else:\n",
    "                return \"Department not found.\"\n",
    "        \n",
    "        elif \"list all employees hired after\" in query.lower():\n",
    "            date = query.lower().split(\"after\")[1].strip()\n",
    "            result = execute_query(\"SELECT Name FROM Employees WHERE Hire_Date > ?\", (date,))\n",
    "            if result:\n",
    "                return [row[0] for row in result]\n",
    "            else:\n",
    "                return \"No employees hired after this date.\"\n",
    "        \n",
    "        elif \"what is the total salary expense for the\" in query.lower():\n",
    "            department = query.lower().split(\"department\")[0].split(\"for the\")[1].strip()\n",
    "            result = execute_query(\"SELECT SUM(Salary) FROM Employees WHERE Department = ?\", (department,))\n",
    "            if result:\n",
    "                return result[0][0]\n",
    "            else:\n",
    "                return \"Department not found.\"\n",
    "        \n",
    "        else:\n",
    "            return \"Sorry, I don't understand that query.\"\n",
    "    except Exception as e:\n",
    "        return f\"An error occurred: {str(e)}\""
   ]
  },
  {
   "cell_type": "code",
   "execution_count": 26,
   "id": "a41d84df-b7c5-40e1-95f0-272dc8ae102a",
   "metadata": {},
   "outputs": [
    {
     "name": "stdout",
     "output_type": "stream",
     "text": [
      "No employees found in this department.\n",
      "Department not found.\n",
      "No employees hired after this date.\n"
     ]
    }
   ],
   "source": [
    "# Test Error Handling\n",
    "print(chat_assistant(\"Show me all employees in the HR department.\"))\n",
    "print(chat_assistant(\"Who is the manager of the Finance department?\"))\n",
    "print(chat_assistant(\"List all employees hired after 2023-01-01.\"))"
   ]
  },
  {
   "cell_type": "code",
   "execution_count": null,
   "id": "58141519-4161-41a9-b9e9-e47c4eab227d",
   "metadata": {},
   "outputs": [],
   "source": []
  }
 ],
 "metadata": {
  "kernelspec": {
   "display_name": "Python 3 (ipykernel)",
   "language": "python",
   "name": "python3"
  },
  "language_info": {
   "codemirror_mode": {
    "name": "ipython",
    "version": 3
   },
   "file_extension": ".py",
   "mimetype": "text/x-python",
   "name": "python",
   "nbconvert_exporter": "python",
   "pygments_lexer": "ipython3",
   "version": "3.12.7"
  }
 },
 "nbformat": 4,
 "nbformat_minor": 5
}
